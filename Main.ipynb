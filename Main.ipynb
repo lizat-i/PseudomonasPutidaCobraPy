{
 "cells": [
  {
   "cell_type": "code",
   "execution_count": 1,
   "metadata": {},
   "outputs": [
    {
     "ename": "ModuleNotFoundError",
     "evalue": "No module named 'cobra'",
     "output_type": "error",
     "traceback": [
      "\u001b[0;31m---------------------------------------------------------------------------\u001b[0m",
      "\u001b[0;31mModuleNotFoundError\u001b[0m                       Traceback (most recent call last)",
      "\u001b[0;32m/var/folders/wg/bd6gkggs51b4d1lbpsbxnw0r0000gn/T/ipykernel_61863/87848524.py\u001b[0m in \u001b[0;36m<module>\u001b[0;34m\u001b[0m\n\u001b[1;32m      4\u001b[0m \u001b[0;32mimport\u001b[0m \u001b[0mpandas\u001b[0m \u001b[0;32mas\u001b[0m \u001b[0mpd\u001b[0m\u001b[0;34m\u001b[0m\u001b[0;34m\u001b[0m\u001b[0m\n\u001b[1;32m      5\u001b[0m \u001b[0;32mimport\u001b[0m \u001b[0msys\u001b[0m\u001b[0;34m\u001b[0m\u001b[0;34m\u001b[0m\u001b[0m\n\u001b[0;32m----> 6\u001b[0;31m \u001b[0;32mimport\u001b[0m \u001b[0mPyFunction\u001b[0m\u001b[0;34m.\u001b[0m\u001b[0mcobra\u001b[0m\u001b[0;34m\u001b[0m\u001b[0;34m\u001b[0m\u001b[0m\n\u001b[0m",
      "\u001b[0;32m~/Documents/devel/folderForGit/PseudomonasPutidaCobraPy/PyFunction/cobra/__init__.py\u001b[0m in \u001b[0;36m<module>\u001b[0;34m\u001b[0m\n\u001b[1;32m      2\u001b[0m \u001b[0m__version__\u001b[0m \u001b[0;34m=\u001b[0m \u001b[0;34m\"0.25.0\"\u001b[0m\u001b[0;34m\u001b[0m\u001b[0;34m\u001b[0m\u001b[0m\n\u001b[1;32m      3\u001b[0m \u001b[0;34m\u001b[0m\u001b[0m\n\u001b[0;32m----> 4\u001b[0;31m from cobra.core import (\n\u001b[0m\u001b[1;32m      5\u001b[0m     \u001b[0mConfiguration\u001b[0m\u001b[0;34m,\u001b[0m\u001b[0;34m\u001b[0m\u001b[0;34m\u001b[0m\u001b[0m\n\u001b[1;32m      6\u001b[0m     \u001b[0mDictList\u001b[0m\u001b[0;34m,\u001b[0m\u001b[0;34m\u001b[0m\u001b[0;34m\u001b[0m\u001b[0m\n",
      "\u001b[0;31mModuleNotFoundError\u001b[0m: No module named 'cobra'"
     ]
    }
   ],
   "source": [
    "import os\n",
    "from importlib import import_module\n",
    "import copy \n",
    "import pandas as pd\n",
    "import sys\n",
    "import PyFunction.cobra as cobra"
   ]
  },
  {
   "cell_type": "code",
   "execution_count": null,
   "metadata": {},
   "outputs": [],
   "source": [
    "extFunc.helloW()"
   ]
  },
  {
   "cell_type": "code",
   "execution_count": null,
   "metadata": {},
   "outputs": [],
   "source": [
    "#Load Models if not already in RAM\n",
    "nameList = ['iJN1462_GLC_UR10_9.xml' , 'iJN1462_GLC_UR6_3.xml', 'iJN1462_GLN_UR5_1.xml', 'iJN1462_GLC_UR7_3.xml' , 'iJN1462_OCT_UR3_4.xml']\n",
    "\n",
    "#if 'modelDict' not in locals():\n",
    "\n",
    "\n",
    "modelDict = pyf.extFunc.ImportFunction(nameList)\n",
    "modelDict.keys()\n"
   ]
  },
  {
   "cell_type": "code",
   "execution_count": null,
   "metadata": {},
   "outputs": [],
   "source": [
    "'''\n",
    "def createOutputWrapper(modelList):\n",
    "\n",
    "    pass\n",
    "    for model in modelList:\n",
    "        tableForDisppay.join(modelList)      \n",
    "\n",
    "    return tableForDisppay\n",
    "\n",
    "def createOutput(model):\n",
    "    sol = model.optimize()\n",
    "    sum = model.summary(solution = sol,fva=.99)\n",
    "    \n",
    "    #biomass = solution.reac ('BIOMASS_KT2440_WT3') \n",
    "    print(biomass)\n",
    "'''\n",
    "    \n",
    "\n",
    "#createOutput(modelList)       \n",
    "#das gesamte Paket als \n",
    "#df = iJN1462_OCT_UR3_4.summary().to_frame()\n",
    "\n",
    "#iJN1462_OCT_UR3_4.tolerance = 1e-1\n",
    "#iJN1462_OCT_UR3_4.summary()\n",
    "#dhtml =de.to_html()\n",
    "#df = pd.read_html(dhtml)\n",
    "#pd.DataFrame(df[1]).sort_values('C-Flux',ascending=False)\n",
    "#df[1]\n",
    "#\n",
    "#de\n",
    "#iJN1462_OCT_UR3_4.summary()\n",
    "#iJN1462_OCT_UR3_4._tolerance = 2\n",
    "#solutionSummaryObject = iJN1462_OCT_UR3_4.summary(fva=.99)\n",
    "\n",
    "\n",
    "#pd.DataFrame(pd.read_html(dhtml)[1]).sort_values('C-Flux',ascending=False)\n",
    "\n",
    "\n",
    "#iJN1462_OCT_UR3_4.reactions.get_by_id('biomass')\n",
    "#createOutput(iJN1462_GLC_UR10_9)\n"
   ]
  },
  {
   "cell_type": "code",
   "execution_count": null,
   "metadata": {},
   "outputs": [],
   "source": [
    "#summaryObject.('BIOMASS_KT2440_WT3')\n",
    "#solutionObject.fluxes.get('BIOMASS_KT2440_WT3')\n",
    "#solutionObject.fluxes.get('BIOMASS_KT2440_WT3')\n",
    "#iJN1462_OCT_UR3_4.summary(solution=solutionObject,fva=0.98)\n",
    "\n"
   ]
  },
  {
   "cell_type": "code",
   "execution_count": null,
   "metadata": {},
   "outputs": [],
   "source": [
    "\n",
    "class ModelComparison():\n",
    "    '''\n",
    "    This Class can be used to compare multiple modelversions \n",
    "    and to get an overview of the C-Flux routes and \n",
    "    the corresponding fva\n",
    "    input  = list of models\n",
    "    '''\n",
    "    def __init__( self, modelDict: \"modelDict\", **kwargs ):\n",
    "        self.modelDict     = modelDict\n",
    "        self.solutionDict = {}\n",
    "        self.summaryDict   = {}\n",
    "        self.dataFrameList = pd.DataFrame\n",
    "        self.generate()\n",
    "            \n",
    "    def generate(self):\n",
    "        for model in self.modelList:\n",
    "            self.solutionList.append(model.optimize())\n",
    "            self.summaryList.append(model.summary(fva=.99))\n",
    "            #self.dataFrameDict = {pd.read_html(self.to_html())[1].sort_values('C-Flux',ascending=False)}  \n",
    "            #self.solutionList.append([11 , 'bb'])\n",
    "            #self.summaryList.append([11 , 'bb'])\n",
    "            \n",
    "        '''\n",
    "        self._objective = None\n",
    "        self._objective_value = None\n",
    "        self._boundary = None\n",
    "        self._boundary_metabolites = None\n",
    "        self.uptake_flux: Optional[pd.DataFrame] = None\n",
    "        self.secretion_flux: Optional[pd.DataFrame] = None\n",
    "        self._generate(model, solution, fva)\n",
    "        '''\n",
    "\n",
    "\n",
    "#modelDict = modelDict.values()\n",
    "\n",
    "#if 'comp' not in locals():\n",
    "comp = ModelComparison(modelList=modelList1)\n",
    "\n",
    "comp.summaryList\n",
    "\n"
   ]
  },
  {
   "cell_type": "code",
   "execution_count": null,
   "metadata": {},
   "outputs": [],
   "source": [
    "#a =  modelDict[\"iJN1462_OCT_UR3_4\"]\n",
    "ext.helloW()"
   ]
  }
 ],
 "metadata": {
  "kernelspec": {
   "display_name": "Python 3.9.7 ('hiwi')",
   "language": "python",
   "name": "python3"
  },
  "language_info": {
   "codemirror_mode": {
    "name": "ipython",
    "version": 3
   },
   "file_extension": ".py",
   "mimetype": "text/x-python",
   "name": "python",
   "nbconvert_exporter": "python",
   "pygments_lexer": "ipython3",
   "version": "3.9.7"
  },
  "orig_nbformat": 4,
  "vscode": {
   "interpreter": {
    "hash": "cff8a8fde5066156badbc9a34c6d1368c0b6a6d699b7317df0ec1e460b5908e2"
   }
  }
 },
 "nbformat": 4,
 "nbformat_minor": 2
}
