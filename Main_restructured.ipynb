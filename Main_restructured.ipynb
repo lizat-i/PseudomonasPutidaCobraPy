{
 "cells": [
  {
   "cell_type": "code",
   "execution_count": 1,
   "metadata": {},
   "outputs": [],
   "source": [
    "import extFunc as ext\n",
    "import numpy as np\n",
    "from importlib import import_module\n",
    "import pandas as pd \n",
    "import copy \n"
   ]
  },
  {
   "cell_type": "code",
   "execution_count": 2,
   "metadata": {},
   "outputs": [
    {
     "name": "stdout",
     "output_type": "stream",
     "text": [
      "Scaling...\n",
      " A: min|aij| =  1.000e+00  max|aij| =  1.000e+00  ratio =  1.000e+00\n",
      "Problem data seem to be well scaled\n"
     ]
    }
   ],
   "source": [
    "#Load Models if not already in RAM\n",
    "\n",
    "#nameList = ['iJN1462_GLC_UR10_9.xml' , 'iJN1462_GLC_UR6_3.xml', 'iJN1462_GLN_UR5_1.xml', 'iJN1462_GLC_UR7_3.xml' , 'iJN1462_OCT_UR3_4.xml']\n",
    "#nameList = ['iJN1462_GLC_UR6_3.xml' , 'iJN1462_OCT_UR3_4.xml']\n",
    "nameList = ['iJN1462_OCT_UR3_4.xml']\n",
    "\n",
    "if 'modelDict' not in locals():\n",
    "    modelDict = ext.ImportFunction(nameList)"
   ]
  },
  {
   "cell_type": "code",
   "execution_count": 19,
   "metadata": {},
   "outputs": [
    {
     "data": {
      "text/html": [
       "<div>\n",
       "<style scoped>\n",
       "    .dataframe tbody tr th:only-of-type {\n",
       "        vertical-align: middle;\n",
       "    }\n",
       "\n",
       "    .dataframe tbody tr th {\n",
       "        vertical-align: top;\n",
       "    }\n",
       "\n",
       "    .dataframe thead th {\n",
       "        text-align: right;\n",
       "    }\n",
       "</style>\n",
       "<table border=\"1\" class=\"dataframe\">\n",
       "  <thead>\n",
       "    <tr style=\"text-align: right;\">\n",
       "      <th></th>\n",
       "      <th>metabolite</th>\n",
       "      <th>reaction</th>\n",
       "      <th>flux</th>\n",
       "      <th>C-Number</th>\n",
       "      <th>C-Flux</th>\n",
       "    </tr>\n",
       "  </thead>\n",
       "  <tbody>\n",
       "    <tr>\n",
       "      <th>EX_h2o_e</th>\n",
       "      <td>h2o[e]</td>\n",
       "      <td>EX_h2o_e</td>\n",
       "      <td>-11.047772</td>\n",
       "      <td>0</td>\n",
       "      <td>0.00%</td>\n",
       "    </tr>\n",
       "    <tr>\n",
       "      <th>EX_co2_e</th>\n",
       "      <td>co2[e]</td>\n",
       "      <td>EX_co2_e</td>\n",
       "      <td>-3.288290</td>\n",
       "      <td>1</td>\n",
       "      <td>21.25%</td>\n",
       "    </tr>\n",
       "    <tr>\n",
       "      <th>EX_R_3hocta_e</th>\n",
       "      <td>R_3hocta[e]</td>\n",
       "      <td>EX_R_3hocta_e</td>\n",
       "      <td>-1.471243</td>\n",
       "      <td>8</td>\n",
       "      <td>76.06%</td>\n",
       "    </tr>\n",
       "    <tr>\n",
       "      <th>EX_h_e</th>\n",
       "      <td>h[e]</td>\n",
       "      <td>EX_h_e</td>\n",
       "      <td>-0.982802</td>\n",
       "      <td>0</td>\n",
       "      <td>0.00%</td>\n",
       "    </tr>\n",
       "    <tr>\n",
       "      <th>EX_ac_e</th>\n",
       "      <td>ac[e]</td>\n",
       "      <td>EX_ac_e</td>\n",
       "      <td>-0.199354</td>\n",
       "      <td>2</td>\n",
       "      <td>2.58%</td>\n",
       "    </tr>\n",
       "  </tbody>\n",
       "</table>\n",
       "</div>"
      ],
      "text/plain": [
       "                metabolite       reaction       flux  C-Number  C-Flux\n",
       "EX_h2o_e            h2o[e]       EX_h2o_e -11.047772         0   0.00%\n",
       "EX_co2_e            co2[e]       EX_co2_e  -3.288290         1  21.25%\n",
       "EX_R_3hocta_e  R_3hocta[e]  EX_R_3hocta_e  -1.471243         8  76.06%\n",
       "EX_h_e                h[e]         EX_h_e  -0.982802         0   0.00%\n",
       "EX_ac_e              ac[e]        EX_ac_e  -0.199354         2   2.58%"
      ]
     },
     "execution_count": 19,
     "metadata": {},
     "output_type": "execute_result"
    }
   ],
   "source": [
    "import extFunc as ext\n",
    "\n",
    "solution = modelDict['iJN1462_OCT_UR3_4'].optimize()\n",
    "a = modelDict['iJN1462_OCT_UR3_4'].summary(solution=solution).to_DataFrame_custom()\n",
    "\n",
    "a.keys()\n",
    "a['secretion'].sort_values('flux', ascending=True).iloc[0:5]"
   ]
  }
 ],
 "metadata": {
  "interpreter": {
   "hash": "cff8a8fde5066156badbc9a34c6d1368c0b6a6d699b7317df0ec1e460b5908e2"
  },
  "kernelspec": {
   "display_name": "Python 3.9.7 ('hiwi')",
   "language": "python",
   "name": "python3"
  },
  "language_info": {
   "codemirror_mode": {
    "name": "ipython",
    "version": 3
   },
   "file_extension": ".py",
   "mimetype": "text/x-python",
   "name": "python",
   "nbconvert_exporter": "python",
   "pygments_lexer": "ipython3",
   "version": "3.9.7"
  },
  "orig_nbformat": 4,
  "vscode": {
   "interpreter": {
    "hash": "cff8a8fde5066156badbc9a34c6d1368c0b6a6d699b7317df0ec1e460b5908e2"
   }
  }
 },
 "nbformat": 4,
 "nbformat_minor": 2
}
