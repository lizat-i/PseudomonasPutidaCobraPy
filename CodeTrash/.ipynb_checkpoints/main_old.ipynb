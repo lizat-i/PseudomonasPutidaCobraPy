{
 "cells": [
  {
   "cell_type": "code",
   "execution_count": null,
   "metadata": {},
   "outputs": [],
   "source": [
    "import extFunc as ext\n",
    "import numpy as np\n",
    "from importlib import import_module\n",
    "import pandas as pd \n",
    "import copy \n"
   ]
  },
  {
   "cell_type": "code",
   "execution_count": null,
   "metadata": {},
   "outputs": [],
   "source": [
    "\n",
    "#Load Models if not already in RAM\n",
    "\n",
    "#nameList = ['iJN1462_GLC_UR10_9.xml' , 'iJN1462_GLC_UR6_3.xml', 'iJN1462_GLN_UR5_1.xml', 'iJN1462_GLC_UR7_3.xml' , 'iJN1462_OCT_UR3_4.xml']\n",
    "nameList = ['iJN1462_GLC_UR6_3.xml' , 'iJN1462_OCT_UR3_4.xml']\n",
    "#nameList = ['iJN1462_OCT_UR3_4.xml']\n",
    "\n",
    "if 'modelDict' not in locals():\n",
    "    modelDict = ext.ImportFunction(nameList)\n"
   ]
  },
  {
   "cell_type": "markdown",
   "metadata": {},
   "source": []
  },
  {
   "cell_type": "code",
   "execution_count": null,
   "metadata": {},
   "outputs": [],
   "source": [
    "if 'compa'  not in locals():\n",
    "    comp = ext.ModelComparison(modelDict=modelDict)\n"
   ]
  },
  {
   "cell_type": "markdown",
   "metadata": {},
   "source": [
    "#Check OC BC???"
   ]
  },
  {
   "cell_type": "code",
   "execution_count": null,
   "metadata": {},
   "outputs": [],
   "source": [
    "comp.mySummary(nrRea=5)"
   ]
  },
  {
   "cell_type": "code",
   "execution_count": null,
   "metadata": {},
   "outputs": [],
   "source": [
    "comp.modelDict.keys()"
   ]
  },
  {
   "cell_type": "code",
   "execution_count": null,
   "metadata": {},
   "outputs": [],
   "source": [
    "## Comaparison 2 Base Case Glucose and Octanoate\n",
    "\n",
    "\n",
    "modelDict_comp2 = {\n",
    "        'gluc_BC'           : copy.deepcopy(comp.modelDict['iJN1462_GLC_UR6_3']),\n",
    "        'oct_BC'            : copy.deepcopy(comp.modelDict['iJN1462_OCT_UR3_4']),       \n",
    "        'gluc_limited'      : copy.deepcopy(comp.modelDict['iJN1462_GLC_UR6_3']),\n",
    "        'oct_limited'       : copy.deepcopy(comp.modelDict['iJN1462_OCT_UR3_4'])  \n",
    "}\n",
    "\n",
    "\n"
   ]
  },
  {
   "cell_type": "code",
   "execution_count": null,
   "metadata": {},
   "outputs": [],
   "source": [
    "## limitierungen einstellen und BaseCases erstellen\n",
    "\n",
    "oct_BC = modelDict_comp2['oct_BC']\n",
    "oct_BC.reactions.get_by_id(\"EX_octa_e\").lower_bound = -3.4\n",
    "oct_BC.reactions.get_by_id(\"EX_octa_e\").upper_bound = -3.4\n",
    "\n",
    "oct_BC.reactions.get_by_id(\"EX_nh4_e\").lower_bound = -1000\n",
    "oct_BC.reactions.get_by_id(\"EX_nh4_e\").lower_bound = -1000\n",
    "oct_BC.reactions.get_by_id(\"EX_o2_e\").lower_bound = -1000\n",
    "\n",
    "oct_BC.reactions.get_by_id(\"EX_nh4_e\").upper_bound = 1000\n",
    "oct_BC.reactions.get_by_id(\"EX_nh4_e\").upper_bound = 1000\n",
    "oct_BC.reactions.get_by_id(\"EX_o2_e\").upper_bound = 1000\n",
    "\n",
    "oct_BC.demands.DM_C60aPHA_c.upper_bound = 1000\n",
    "oct_BC.demands.DM_C60aPHA_c.lower_bound =-1000\n",
    "\n",
    "oct_BC.demands.DM_C80aPHA_c.upper_bound = 1000\n",
    "oct_BC.demands.DM_C80aPHA_c.lower_bound = -1000\n",
    "\n",
    "oct_BC.demands.DM_C100aPHA_c.upper_bound  = 1000\n",
    "oct_BC.demands.DM_C100aPHA_c.lower_bound  = -1000\n",
    "\n",
    "oct_BC.demands.DM_C120aPHA_c.upper_bound  = 1000\n",
    "oct_BC.demands.DM_C120aPHA_c.lower_bound  = -1000"
   ]
  },
  {
   "cell_type": "code",
   "execution_count": null,
   "metadata": {},
   "outputs": [],
   "source": [
    "gluc_limited = modelDict_comp2['gluc_limited']\n",
    "gluc_limited.demands.DM_C60aPHA_c.upper_bound = 1000\n",
    "gluc_limited.demands.DM_C60aPHA_c.lower_bound =-1000\n",
    "\n",
    "gluc_limited.demands.DM_C80aPHA_c.upper_bound = 1000\n",
    "gluc_limited.demands.DM_C80aPHA_c.lower_bound = -1000\n",
    "\n",
    "gluc_limited.demands.DM_C100aPHA_c.upper_bound  = 1000\n",
    "gluc_limited.demands.DM_C100aPHA_c.lower_bound  = -1000\n",
    "\n",
    "gluc_limited.demands.DM_C120aPHA_c.upper_bound  = 1000\n",
    "gluc_limited.demands.DM_C120aPHA_c.lower_bound  = -1000\n",
    "\n",
    "##\n",
    "\n",
    "gluc_limited.reactions.get_by_id(\"EX_glc__D_e\").lower_bound = -6.1\n",
    "gluc_limited.reactions.get_by_id(\"EX_glc__D_e\").upper_bound = -6.1\n",
    "\n",
    "gluc_limited.reactions.get_by_id(\"EX_nh4_e\").lower_bound = -1.55\n",
    "gluc_limited.reactions.get_by_id(\"EX_nh4_e\").lower_bound = -1.55\n",
    "gluc_limited.reactions.get_by_id(\"EX_o2_e\").lower_bound = -6.1\n"
   ]
  },
  {
   "cell_type": "code",
   "execution_count": null,
   "metadata": {},
   "outputs": [],
   "source": [
    "gluc_limited.reactions.get_by_id(\"EX_nh4_e\").lower_bound"
   ]
  },
  {
   "cell_type": "code",
   "execution_count": null,
   "metadata": {},
   "outputs": [],
   "source": [
    "modelDict_comp2['gluc_limited'].reactions.get_by_id(\"EX_nh4_e\").lower_bound"
   ]
  },
  {
   "cell_type": "code",
   "execution_count": null,
   "metadata": {},
   "outputs": [],
   "source": [
    "if 'comp3'  not in locals():\n",
    "    comp2 = ext.ModelComparison(modelDict=modelDict_comp2)"
   ]
  },
  {
   "cell_type": "code",
   "execution_count": null,
   "metadata": {},
   "outputs": [],
   "source": [
    "\n",
    "\n",
    "#comp.modelDict['iJN1462_GLC_UR6_3'].reactions.get_by_id('EX_ca2_e').lower_bound \n"
   ]
  },
  {
   "cell_type": "code",
   "execution_count": null,
   "metadata": {},
   "outputs": [],
   "source": []
  },
  {
   "cell_type": "code",
   "execution_count": null,
   "metadata": {},
   "outputs": [],
   "source": [
    "\n",
    "comp2.mySummary(nrRea=5)\n"
   ]
  },
  {
   "cell_type": "code",
   "execution_count": null,
   "metadata": {},
   "outputs": [],
   "source": [
    "#gluc_limited.reactions.get_by_id(\"BIOMASS_KT2440_WT3\").lower_bound = 0.1456196756044564\n",
    "#gluc_limited.reactions.get_by_id(\"BIOMASS_KT2440_WT3\").upper_bound = 0.14561967560\n",
    "\n",
    "#iJN1462_OCT_UR3_4_atp\n",
    "#iJN1462_OCT_UR3_4_atp.objective = 'PYK'\n",
    "#iJN1462_OCT_UR3_4_atp.objective = 'PYK'\n",
    "#iJN1462_OCT_UR3_4_atp.objective.direction = 'max'\n",
    "#\n",
    "#"
   ]
  },
  {
   "cell_type": "code",
   "execution_count": null,
   "metadata": {},
   "outputs": [],
   "source": [
    "#a=pd.read_html(comp.modelDict['iJN1462_OCT_UR3_4'].summary(fva=.99).to_html())[1].sort_values('Flux', ascending=True).iloc[0:100]['Reaction']\n",
    "excluded_ = comp.modelDict['iJN1462_OCT_UR3_4'].summary(fva=.99).to_html()[0].sort_values('Flux', ascending=True).iloc[0:100]['Reaction']\n",
    "#excluded_reactions = excluded_.append(pd.read_html(comp.modelDict['iJN1462_OCT_UR3_4'].summary(fva=.99).to_html())[1].sort_values('Flux', ascending=True).iloc[0:100]['Reaction'])\n",
    "\n"
   ]
  },
  {
   "cell_type": "code",
   "execution_count": null,
   "metadata": {},
   "outputs": [],
   "source": [
    "#      Comparison limited exchange Reactions\n",
    "#      Deamand Reactions sind schon\n",
    "\n",
    "Octanoate_limited   = copy.deepcopy(comp.modelDict['iJN1462_OCT_UR3_4'])\n",
    "test                = copy.deepcopy(comp.modelDict['iJN1462_OCT_UR3_4'])\n",
    "\n",
    "for exch in test.exchanges:\n",
    "    print(exch)\n",
    "    if exch not in excluded_reactions:\n",
    "        print(exch)\n",
    "        test.reactions.get_by_id(exch.id).upper_bound = 0\n",
    "        test.reactions.get_by_id(exch.id).lower_bound = 0\n",
    "\n",
    "test.reactions.get_by_id(exch.id).upper_bound \n",
    "'''\n",
    "for choice in a:\n",
    "    test.reactions.get_by_id(choice).upper_bound = 1000\n",
    "    test.reactions.get_by_id(choice).lower_bound = -1000\n",
    "    \n",
    "for choice in a:\n",
    "    test.reactions.get_by_id(choice).upper_bound = 1000\n",
    "    test.reactions.get_by_id(choice).lower_bound = -1000\n",
    "'''\n",
    "\n",
    "\n",
    "\n",
    "'''\n",
    "###########\n",
    "# UPTAKE\n",
    "###########\n",
    "\n",
    "#C-source aufnahme\n",
    "test.reactions.get_by_id('EX_octa_e').lower_bound     = -3.4\n",
    "test.reactions.get_by_id('EX_octa_e').upper_bound     = -3.4\n",
    " \n",
    "#O-source aufnahme\n",
    "test.reactions.get_by_id('EX_o2_e').lower_bound     = -13.5\n",
    "test.reactions.get_by_id('EX_o2_e').upper_bound     = -13.5\n",
    "\n",
    "#NH4-source aufnahme\n",
    "test.reactions.get_by_id('EX_nh4_e').lower_bound     = -3.1\n",
    "test.reactions.get_by_id('EX_nh4_e').upper_bound     = -3.1\n",
    "\n",
    "###########\n",
    "# SEKRETION\n",
    "###########\n",
    "\n",
    "#CO2-source abgabe\n",
    "test.reactions.get_by_id('EX_co2_e').lower_bound     = -1000\n",
    "test.reactions.get_by_id('EX_co2_e').upper_bound     = 1000\n",
    "\n",
    "\n",
    "#EX_R_3hocta_e aufnahme\n",
    "test.reactions.get_by_id('EX_R_3hocta_e').lower_bound   = -1000\n",
    "test.reactions.get_by_id('EX_R_3hocta_e').upper_bound   = 1000\n",
    "\n",
    "#EX_R_3hocta_e-source aufnahme\n",
    "#test.reactions.get_by_id('EX_R_3hocta_e').lower_bound   = 0\n",
    "#test.reactions.get_by_id('EX_R_3hocta_e').upper_bound   = 1000\n",
    "\n",
    "#EX_R_3hocta_e-source aufnahme\n",
    "test.reactions.get_by_id('EX_na1_e').lower_bound        = -1000\n",
    "test.reactions.get_by_id('EX_na1_e').upper_bound        = 1000\n",
    "\n",
    "test.reactions.get_by_id('EX_zn2_e').lower_bound        = -1000\n",
    "test.reactions.get_by_id('EX_zn2_e').upper_bound        = 1000\n",
    "\n",
    "test.reactions.get_by_id('EX_na1_e').lower_bound        = -1000\n",
    "test.reactions.get_by_id('EX_na1_e').upper_bound        = 1000\n",
    "\n",
    "test.reactions.get_by_id('EX_so4_e').lower_bound        = -1000\n",
    "test.reactions.get_by_id('EX_so4_e').upper_bound        = 1000\n",
    "\n",
    "'''\n",
    "test.optimize()\n"
   ]
  },
  {
   "cell_type": "code",
   "execution_count": null,
   "metadata": {},
   "outputs": [],
   "source": [
    "\n",
    "modelDict_comp2 = {\n",
    "                    'oct_BC' : Octanoate_limited,\n",
    "                    'test'   : test\n",
    "                   }\n",
    "#if 'comp4'  not in locals():\n",
    "    \n",
    "comp4 = ext.ModelComparison(modelDict=modelDict_comp2)\n",
    "\n",
    "comp4.mySummary(nrRea=5)\n",
    "\n",
    "comp4[test].modelreactions"
   ]
  }
 ],
 "metadata": {
  "interpreter": {
   "hash": "cff8a8fde5066156badbc9a34c6d1368c0b6a6d699b7317df0ec1e460b5908e2"
  },
  "kernelspec": {
   "display_name": "Python 3.9.7 ('hiwi')",
   "language": "python",
   "name": "python3"
  },
  "language_info": {
   "codemirror_mode": {
    "name": "ipython",
    "version": 3
   },
   "file_extension": ".py",
   "mimetype": "text/x-python",
   "name": "python",
   "nbconvert_exporter": "python",
   "pygments_lexer": "ipython3",
   "version": "3.9.7"
  },
  "orig_nbformat": 4,
  "vscode": {
   "interpreter": {
    "hash": "cff8a8fde5066156badbc9a34c6d1368c0b6a6d699b7317df0ec1e460b5908e2"
   }
  }
 },
 "nbformat": 4,
 "nbformat_minor": 2
}
