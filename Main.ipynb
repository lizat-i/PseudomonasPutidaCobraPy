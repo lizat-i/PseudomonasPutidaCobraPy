{
 "cells": [
  {
   "cell_type": "code",
   "execution_count": 30,
   "metadata": {},
   "outputs": [
    {
     "ename": "SyntaxError",
     "evalue": "invalid syntax (329256765.py, line 5)",
     "output_type": "error",
     "traceback": [
      "\u001b[0;36m  File \u001b[0;32m\"/var/folders/wg/bd6gkggs51b4d1lbpsbxnw0r0000gn/T/ipykernel_12975/329256765.py\"\u001b[0;36m, line \u001b[0;32m5\u001b[0m\n\u001b[0;31m    from /modules import cobra\u001b[0m\n\u001b[0m         ^\u001b[0m\n\u001b[0;31mSyntaxError\u001b[0m\u001b[0;31m:\u001b[0m invalid syntax\n"
     ]
    }
   ],
   "source": [
    "import os\n",
    "import copy \n",
    "import pandas as pd\n",
    "import sys\n",
    "mport cobra"
   ]
  },
  {
   "cell_type": "code",
   "execution_count": 10,
   "metadata": {},
   "outputs": [
    {
     "name": "stdout",
     "output_type": "stream",
     "text": [
      "Scaling...\n",
      " A: min|aij| =  1.000e+00  max|aij| =  1.000e+00  ratio =  1.000e+00\n",
      "Problem data seem to be well scaled\n"
     ]
    }
   ],
   "source": [
    "#Load Model\n",
    "mainPATH = '/Users/ivanlizat/Documents/devel/folderForGit/PseudomonasPutidaCobraPy'\n",
    "relativModelPATH = mainPATH + '/MatlabExportedModels'\n",
    "''' \n",
    "iJN1462_GLC_UR10_9_main     =   cobra.io.read_sbml_model( relativModelPATH + '/iJN1462_GLC_UR10_9.xml')\n",
    "iJN1462_GLC_UR6_3_main      =   cobra.io.read_sbml_model( relativModelPATH + '/iJN1462_GLC_UR6_3.xml')\n",
    "iJN1462_GLC_UR7_3_main      =   cobra.io.read_sbml_model( relativModelPATH + '/iJN1462_GLC_UR7_3.xml')\n",
    "'''\n",
    "\n",
    "iJN1462_OCT_UR3_4_main      =   cobra.io.read_sbml_model(relativModelPATH + '/iJN1462_OCT_UR3_4.xml')\n",
    "'''\n",
    "iJN1462_GLC_UR10_9          =   copy.deepcopy(iJN1462_GLC_UR10_9_main)\n",
    "iJN1462_GLC_UR6_3           =   copy.deepcopy(iJN1462_GLC_UR6_3_main)\n",
    "iJN1462_GLC_UR7_3           =   copy.deepcopy(iJN1462_GLC_UR7_3_main)\n",
    "iJN1462_GLN_UR5_1           =   copy.deepcopy(iJN1462_GLN_UR5_1_main)\n",
    "'''\n",
    "iJN1462_OCT_UR3_4           =   copy.deepcopy(iJN1462_OCT_UR3_4_main)"
   ]
  },
  {
   "cell_type": "code",
   "execution_count": 15,
   "metadata": {},
   "outputs": [],
   "source": [
    "from IPython.core.interactiveshell import InteractiveShell\n",
    "InteractiveShell.ast_node_interactivity = \"all\""
   ]
  },
  {
   "cell_type": "code",
   "execution_count": 28,
   "metadata": {},
   "outputs": [
    {
     "name": "stdout",
     "output_type": "stream",
     "text": [
      "<class 'pandas.core.frame.DataFrame'>\n"
     ]
    }
   ],
   "source": [
    "from cobrapy.src import cobra\n",
    "#das gesamte Paket als \n",
    "df = iJN1462_OCT_UR3_4.summary().to_frame()\n",
    "print(type(df))"
   ]
  }
 ],
 "metadata": {
  "kernelspec": {
   "display_name": "Python 3.9.7 ('hiwi')",
   "language": "python",
   "name": "python3"
  },
  "language_info": {
   "codemirror_mode": {
    "name": "ipython",
    "version": 3
   },
   "file_extension": ".py",
   "mimetype": "text/x-python",
   "name": "python",
   "nbconvert_exporter": "python",
   "pygments_lexer": "ipython3",
   "version": "3.9.7"
  },
  "orig_nbformat": 4,
  "vscode": {
   "interpreter": {
    "hash": "cff8a8fde5066156badbc9a34c6d1368c0b6a6d699b7317df0ec1e460b5908e2"
   }
  }
 },
 "nbformat": 4,
 "nbformat_minor": 2
}
