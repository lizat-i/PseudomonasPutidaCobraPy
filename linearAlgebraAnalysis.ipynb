{
 "cells": [
  {
   "cell_type": "markdown",
   "metadata": {},
   "source": [
    "## Analysis of the matrix, to see if information can be extracted\n",
    "(glucose & octanoate))"
   ]
  },
  {
   "cell_type": "markdown",
   "metadata": {},
   "source": [
    "### setup"
   ]
  },
  {
   "cell_type": "code",
   "execution_count": 6,
   "metadata": {},
   "outputs": [],
   "source": [
    "import extFunc as ext\n",
    "import matplotlib.pyplot as plt\n",
    "plt.rcParams['figure.figsize'] = [10, 5]\n",
    "import numpy as np\n",
    "from importlib import import_module\n",
    "import pandas as pd \n",
    "import cobra\n",
    "import optlang\n",
    "import copy \n",
    "import random"
   ]
  },
  {
   "cell_type": "code",
   "execution_count": 2,
   "metadata": {},
   "outputs": [
    {
     "name": "stdout",
     "output_type": "stream",
     "text": [
      "Scaling...\n",
      " A: min|aij| =  1.000e+00  max|aij| =  1.000e+00  ratio =  1.000e+00\n",
      "Problem data seem to be well scaled\n"
     ]
    }
   ],
   "source": [
    "%%capture\n",
    "#Load Models if not already in RAM\n",
    "\n",
    "#nameList = ['iJN1462_GLC_UR10_9.xml' , 'iJN1462_GLC_UR6_3.xml', 'iJN1462_GLN_UR5_1.xml', 'iJN1462_GLC_UR7_3.xml' , 'iJN1462_OCT_UR3_4.xml']\n",
    "#nameList = ['iJN1462_GLC_UR6_3.xml' , 'iJN1462_OCT_UR3_4.xml']\n",
    "nameList = ['iJN1462_OCT_UR3_4.xml','iJN1462_GLC_UR6_3.xml']\n",
    "\n",
    "if 'modelDict' not in locals():\n",
    "    modelDict = ext.ImportFunction(nameList)\n",
    "\n",
    "\n",
    "if 'glc_oct_comp'  not in locals():\n",
    "    glc_oct_comp = ext.ModelComparison(modelDict=modelDict)\n"
   ]
  },
  {
   "cell_type": "markdown",
   "metadata": {},
   "source": [
    "## Matrix extraction\n",
    "extracting stoch matrix N and dividing it to N_int and N_ext "
   ]
  },
  {
   "cell_type": "code",
   "execution_count": 3,
   "metadata": {},
   "outputs": [],
   "source": [
    "model_oct       = copy.deepcopy(modelDict['iJN1462_OCT_UR3_4'])\n",
    "model_glu       = copy.deepcopy(modelDict['iJN1462_GLC_UR6_3'])\n"
   ]
  },
  {
   "cell_type": "code",
   "execution_count": 9,
   "metadata": {},
   "outputs": [],
   "source": [
    "N_glc = cobra.util.create_stoichiometric_matrix(model_glu,'dense')\n",
    "N_oct = cobra.util.create_stoichiometric_matrix(model_oct,'dense')\n",
    "\n",
    "L_glc = np.sum(N_glc,axis=0)==1\n",
    "L_oct = np.sum(N_oct,axis=0)==1\n",
    "\n",
    "N_u_glc = np.delete(N_glc, L_glc,axis=1)\n",
    "N_u_oct = np.delete(N_oct, L_oct,axis=1)\n"
   ]
  },
  {
   "cell_type": "markdown",
   "metadata": {},
   "source": [
    "### Nullraum und Rang "
   ]
  },
  {
   "cell_type": "code",
   "execution_count": 15,
   "metadata": {},
   "outputs": [
    {
     "name": "stdout",
     "output_type": "stream",
     "text": [
      "311\n",
      "294\n"
     ]
    }
   ],
   "source": [
    "[nn,pp]     = N_u_glc.shape\n",
    "dim_Null    = pp-np.linalg.matrix_rank(N_u_glc)\n",
    "dim_lNull   = nn-np.linalg.matrix_rank(N_u_glc)\n",
    "\n",
    "print(dim_Null)\n",
    "print(dim_lNull)"
   ]
  },
  {
   "cell_type": "markdown",
   "metadata": {},
   "source": [
    "shortest path connecting a network buidling a bipartit network usind networkx --> shortest path algorithm"
   ]
  }
 ],
 "metadata": {
  "interpreter": {
   "hash": "cff8a8fde5066156badbc9a34c6d1368c0b6a6d699b7317df0ec1e460b5908e2"
  },
  "kernelspec": {
   "display_name": "Python 3.9.7 ('hiwi')",
   "language": "python",
   "name": "python3"
  },
  "language_info": {
   "codemirror_mode": {
    "name": "ipython",
    "version": 3
   },
   "file_extension": ".py",
   "mimetype": "text/x-python",
   "name": "python",
   "nbconvert_exporter": "python",
   "pygments_lexer": "ipython3",
   "version": "3.9.7"
  },
  "orig_nbformat": 4
 },
 "nbformat": 4,
 "nbformat_minor": 2
}
