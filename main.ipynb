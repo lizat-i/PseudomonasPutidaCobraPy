{
 "cells": [
  {
   "cell_type": "code",
   "execution_count": null,
   "metadata": {},
   "outputs": [],
   "source": [
    "import extFunc as ext\n",
    "import numpy as np\n",
    "from importlib import import_module\n",
    "import pandas as pd \n",
    "import cobra\n",
    "import optlang\n",
    "import copy \n",
    "import random"
   ]
  },
  {
   "cell_type": "code",
   "execution_count": null,
   "metadata": {},
   "outputs": [],
   "source": [
    "#Load Models if not already in RAM\n",
    "\n",
    "#nameList = ['iJN1462_GLC_UR10_9.xml' , 'iJN1462_GLC_UR6_3.xml', 'iJN1462_GLN_UR5_1.xml', 'iJN1462_GLC_UR7_3.xml' , 'iJN1462_OCT_UR3_4.xml']\n",
    "nameList = ['iJN1462_GLC_UR6_3.xml' , 'iJN1462_OCT_UR3_4.xml']\n",
    "#nameList = ['iJN1462_OCT_UR3_4.xml']\n",
    "\n",
    "if 'modelDict' not in locals():\n",
    "    modelDict = ext.ImportFunction(nameList)"
   ]
  },
  {
   "cell_type": "code",
   "execution_count": null,
   "metadata": {},
   "outputs": [],
   "source": [
    "if 'glc_oct_comp'  not in locals():\n",
    "    glc_oct_comp = ext.ModelComparison(modelDict=modelDict)\n",
    "\n",
    "#import extFunc as ext\n",
    "\n",
    "\n",
    "#a.keys()\n",
    "#a['secretion'].sort_values('flux', ascending=True).iloc[0:5].reset_index(drop=True)\n",
    "\n",
    "glc_oct_comp.multiModellSummary(sortKrit='C-Flux')\n"
   ]
  },
  {
   "cell_type": "code",
   "execution_count": null,
   "metadata": {},
   "outputs": [],
   "source": [
    "nameList = ['iJN1462_OCT_UR3_4.xml']\n",
    "modelDict = ext.ImportFunction(nameList)\n",
    "solutionDict = {'fba'                :  modelDict['iJN1462_OCT_UR3_4'].optimize() ,\n",
    "                'pfba'               :  cobra.flux_analysis.pfba(modelDict['iJN1462_OCT_UR3_4']),\n",
    "                #'geom_fba'           :  cobra.flux_analysis.geometric_fba(modelDict['iJN1462_OCT_UR3_4']),\n",
    "                #'looples_cla'        :  cobra.flux_analysis.loopless.add_loopless(modelDict['iJN1462_OCT_UR3_4']).optimize(),\n",
    "                #'CylceFreeFlux_algo' :  cobra.flux_analysis.loopless.loopless_solution(modelDict['iJN1462_OCT_UR3_4']),\n",
    "                }\n",
    "\n",
    "single_Model_comp = ext.ModelComparison(modelDict=modelDict)\n",
    "\n",
    "##check in googleColab if geometric_fba_gives result and which results it gives"
   ]
  },
  {
   "cell_type": "code",
   "execution_count": null,
   "metadata": {},
   "outputs": [],
   "source": [
    "# Comment an Franzi, wenn summary Methode aufgerufen wir, wird automatisch pFBA ausgeführt daher untershiede im ergebniss\n",
    "# zwischen fba und pfba, kurzum: gba result liefert gar keine DM_80aPHA_c\n",
    "# fba -->       Maximierung der Zielfunktion, thats it\n",
    "# pfba -->      Maximierung der Zielfunktion, und minimierung der Summe aller Flüsse\n",
    "# geometric --> Geometric FBA finds a unique optimal flux distribution which is central to the range of possible fluxes.\n",
    "# pfba --> Maximierung der Zielfunktion, und minimierung der Summe aller Flüsse\n",
    "\n",
    "single_Model_comp.singleModellSummary(solutionDict)"
   ]
  },
  {
   "cell_type": "code",
   "execution_count": null,
   "metadata": {},
   "outputs": [],
   "source": [
    "# Production envelopes und Phenotype Phase Plane\n"
   ]
  },
  {
   "cell_type": "code",
   "execution_count": null,
   "metadata": {},
   "outputs": [],
   "source": [
    "nameList = ['iJN1462_OCT_UR3_4.xml']\n",
    "modelDict = ext.ImportFunction(nameList)\n",
    "solutionDict = {\n",
    "                'pfba'               :  cobra.flux_analysis.pfba(modelDict['iJN1462_OCT_UR3_4']),\n",
    "                }\n",
    "\n",
    "single_Model_comp = ext.ModelComparison(modelDict=modelDict)"
   ]
  },
  {
   "cell_type": "code",
   "execution_count": null,
   "metadata": {},
   "outputs": [],
   "source": [
    "secretion_react = single_Model_comp.singleModellSummary(solutionDict , nrRea=35)['Secretion']['reaction']\n",
    "single_Model_comp.singleModellSummary(solutionDict , nrRea=35)['Uptake']['reaction']"
   ]
  },
  {
   "cell_type": "code",
   "execution_count": null,
   "metadata": {},
   "outputs": [],
   "source": [
    "model = copy.deepcopy(modelDict['iJN1462_OCT_UR3_4'])"
   ]
  },
  {
   "cell_type": "code",
   "execution_count": null,
   "metadata": {},
   "outputs": [],
   "source": [
    "for reac in secretion_react:\n",
    "    model.reactions.get_by_id(model).lower_bound = 10"
   ]
  }
 ],
 "metadata": {
  "interpreter": {
   "hash": "cff8a8fde5066156badbc9a34c6d1368c0b6a6d699b7317df0ec1e460b5908e2"
  },
  "kernelspec": {
   "display_name": "Python 3.9.7 ('hiwi')",
   "language": "python",
   "name": "python3"
  },
  "language_info": {
   "codemirror_mode": {
    "name": "ipython",
    "version": 3
   },
   "file_extension": ".py",
   "mimetype": "text/x-python",
   "name": "python",
   "nbconvert_exporter": "python",
   "pygments_lexer": "ipython3",
   "version": "3.9.7"
  },
  "orig_nbformat": 4,
  "vscode": {
   "interpreter": {
    "hash": "cff8a8fde5066156badbc9a34c6d1368c0b6a6d699b7317df0ec1e460b5908e2"
   }
  }
 },
 "nbformat": 4,
 "nbformat_minor": 2
}
