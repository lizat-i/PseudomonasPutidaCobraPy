{
 "cells": [
  {
   "cell_type": "markdown",
   "metadata": {},
   "source": [
    "## Analysis of the matrix extract usefull information\n",
    "\n",
    "(glucose & octanoate)"
   ]
  },
  {
   "cell_type": "markdown",
   "metadata": {},
   "source": [
    "### setup"
   ]
  },
  {
   "cell_type": "code",
   "execution_count": 12,
   "metadata": {},
   "outputs": [],
   "source": [
    "import extFunc as ext\n",
    "import matplotlib.pyplot as plt\n",
    "plt.rcParams['figure.figsize'] = [10, 5]\n",
    "import numpy as np\n",
    "from importlib import import_module\n",
    "import pandas as pd \n",
    "import cobra\n",
    "import optlang\n",
    "import copy \n",
    "import random\n",
    "import scipy as sp"
   ]
  },
  {
   "cell_type": "code",
   "execution_count": null,
   "metadata": {},
   "outputs": [],
   "source": [
    "%%capture\n",
    "#Load Models if not already in RAM\n",
    "\n",
    "nameList = ['iJN1462_OCT_UR3_4.xml','iJN1462_GLC_UR6_3.xml']\n",
    "\n",
    "if 'modelDict' not in locals():\n",
    "    modelDict = ext.ImportFunction(nameList)\n",
    "\n",
    "if 'glc_oct_comp'  not in locals():\n",
    "    glc_oct_comp = ext.ModelComparison(modelDict=modelDict)\n"
   ]
  },
  {
   "cell_type": "markdown",
   "metadata": {},
   "source": [
    "## Model preparation\n",
    "-   loading Model, \n",
    "-   reseting upper lower bounds to max/min 1000\n",
    "-   display all constrained Reactions --> warum atpm ?"
   ]
  },
  {
   "cell_type": "code",
   "execution_count": null,
   "metadata": {},
   "outputs": [],
   "source": [
    "#model_glu       = copy.deepcopy(modelDict['iJN1462_GLC_UR6_3']\n",
    "\n",
    "model       = copy.deepcopy(modelDict['iJN1462_OCT_UR3_4'])\n",
    "\n",
    "\n",
    "env_conditions = {r.id:(r.lower_bound, r.upper_bound)\n",
    " for r in model.reactions\n",
    " if (r.lower_bound not in [-1000, 0]) or (r.upper_bound not in [0, 1000])}\n",
    "env_conditions\n"
   ]
  },
  {
   "cell_type": "markdown",
   "metadata": {},
   "source": [
    "## Matrix preparation\n",
    "-   loading Model, \n",
    "-   reseting upper lower bounds to max/min 1000\n",
    "-   display all constrained Reactions --> warum atpm ?"
   ]
  },
  {
   "cell_type": "code",
   "execution_count": null,
   "metadata": {},
   "outputs": [],
   "source": [
    "#Nu  = cobra.util.create_stoichiometric_matrix(model.remove_reactions(reactions=['EX_octa_e','EX_o2_e','EX_nh4_e']))\n",
    "Nu_model = model.copy()\n",
    "model.remove_reactions(reactions=['EX_o2_e','EX_nh4_e','EX_octa_e'])\n",
    "\n",
    "\n",
    "N   = cobra.util.create_stoichiometric_matrix(model,'dense')\n",
    "\n",
    "L   = np.sum(N,axis=0)==1\n",
    "N_s = np.delete(N, L,axis=1)"
   ]
  },
  {
   "cell_type": "markdown",
   "metadata": {},
   "source": [
    "### Nullraum und Rang "
   ]
  },
  {
   "cell_type": "code",
   "execution_count": null,
   "metadata": {},
   "outputs": [],
   "source": [
    "[nn,pp]     = N.shape\n",
    "dim_Null    = pp-np.linalg.matrix_rank(N)\n",
    "dim_lNull   = nn-np.linalg.matrix_rank(N)\n",
    "\n",
    "print(dim_Null)\n",
    "print(dim_lNull)\n"
   ]
  },
  {
   "cell_type": "code",
   "execution_count": null,
   "metadata": {},
   "outputs": [],
   "source": [
    "Kr = sp.linalg.null_space(N_u_glc)\n",
    "Kl = sp.linalg.null_space(N_u_oct.T)\n"
   ]
  },
  {
   "cell_type": "markdown",
   "metadata": {},
   "source": [
    "shortest path connecting a network buidling a bipartit network usind networkx --> shortest path algorithm"
   ]
  }
 ],
 "metadata": {
  "interpreter": {
   "hash": "cff8a8fde5066156badbc9a34c6d1368c0b6a6d699b7317df0ec1e460b5908e2"
  },
  "kernelspec": {
   "display_name": "Python 3.9.7 ('hiwi')",
   "language": "python",
   "name": "python3"
  },
  "language_info": {
   "codemirror_mode": {
    "name": "ipython",
    "version": 3
   },
   "file_extension": ".py",
   "mimetype": "text/x-python",
   "name": "python",
   "nbconvert_exporter": "python",
   "pygments_lexer": "ipython3",
   "version": "3.9.7"
  },
  "orig_nbformat": 4
 },
 "nbformat": 4,
 "nbformat_minor": 2
}
