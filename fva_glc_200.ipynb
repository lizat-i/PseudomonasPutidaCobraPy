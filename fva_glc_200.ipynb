{
 "cells": [
  {
   "cell_type": "markdown",
   "metadata": {},
   "source": [
    "## Analysis of the FVA results for the Octanoate Base Case \n",
    "(limited oxygen and nitrogen uptake, c-source is octanoate and pha is produced)"
   ]
  },
  {
   "cell_type": "markdown",
   "metadata": {},
   "source": [
    "### setup"
   ]
  },
  {
   "cell_type": "code",
   "execution_count": 1,
   "metadata": {},
   "outputs": [],
   "source": [
    "import extFunc as ext\n",
    "import matplotlib.pyplot as plt\n",
    "plt.rcParams['figure.figsize'] = [10, 5]\n",
    "import numpy as np\n",
    "from importlib import import_module\n",
    "import pandas as pd \n",
    "import cobra\n",
    "import seaborn as sns\n",
    "import optlang\n",
    "import copy \n",
    "import random"
   ]
  },
  {
   "cell_type": "code",
   "execution_count": 2,
   "metadata": {},
   "outputs": [
    {
     "name": "stdout",
     "output_type": "stream",
     "text": [
      "Scaling...\n",
      " A: min|aij| =  1.000e+00  max|aij| =  1.000e+00  ratio =  1.000e+00\n",
      "Problem data seem to be well scaled\n"
     ]
    }
   ],
   "source": [
    "%%capture\n",
    "#Load Models if not already in RAM\n",
    "\n",
    "#nameList = ['iJN1462_GLC_UR10_9.xml' , 'iJN1462_GLC_UR6_3.xml', 'iJN1462_GLN_UR5_1.xml', 'iJN1462_GLC_UR7_3.xml' , 'iJN1462_OCT_UR3_4.xml']\n",
    "#nameList = ['iJN1462_GLC_UR6_3.xml' , 'iJN1462_OCT_UR3_4.xml']\n",
    "nameList = ['iJN1462_GLC_UR6_3.xml']\n",
    "\n",
    "if 'modelDict' not in locals():\n",
    "    modelDict = ext.ImportFunction(nameList)\n",
    "\n",
    "\n",
    "\n",
    "if 'glc_oct_comp'  not in locals():\n",
    "    glc_oct_comp = ext.ModelComparison(modelDict=modelDict)\n"
   ]
  },
  {
   "cell_type": "markdown",
   "metadata": {},
   "source": [
    "## FVA analysis\n"
   ]
  },
  {
   "cell_type": "code",
   "execution_count": 4,
   "metadata": {},
   "outputs": [],
   "source": [
    "\n",
    "%%capture\n",
    "#Base case as in Nogales Paper\n",
    "model           = modelDict['iJN1462_GLC_UR6_3']\n",
    "\n",
    "model.reactions.EX_glc__D_e.upper_bound  = -3.4\n",
    "model.reactions.EX_glc__D_e.lower_bound  = -3.4\n",
    "\n",
    "model.reactions.EX_o2_e.upper_bound  = 0\n",
    "model.reactions.EX_o2_e.lower_bound  = -13.5\n",
    "\n",
    "model.reactions.EX_nh4_e.upper_bound  = 0\n",
    "model.reactions.EX_nh4_e.lower_bound  = -3.1\n",
    "\n",
    "model_bounded   = copy.deepcopy(model)\n",
    "\n",
    "fv                  = cobra.flux_analysis.flux_variability_analysis(model)\n",
    "fv[\"cumulative\"]    = abs(fv.maximum) + abs(fv.minimum)\n"
   ]
  },
  {
   "cell_type": "markdown",
   "metadata": {},
   "source": [
    "## FVA analysis, Plotting FVA, filterig extreme FVA, influnce of the filtered?\n"
   ]
  },
  {
   "cell_type": "markdown",
   "metadata": {},
   "source": [
    "### filtering reactions fva>200 \n",
    "Assumption through high default boundaries overal variability artificially strethed ?\n",
    "Test, Measure the overall cumulative variability for the bounded and unbound optimized cases.\n",
    "If a difference is visible after removig the artificially stretched reactions, this would mean that theire was an influence"
   ]
  },
  {
   "cell_type": "code",
   "execution_count": null,
   "metadata": {},
   "outputs": [],
   "source": [
    "filterV = 200\n",
    "\n",
    "fig, axes = plt.subplots(nrows=1, ncols=3,figsize=(35,10))\n",
    "fv.plot( y=[\"maximum\", \"minimum\"],ax=axes[0],\n",
    "        ylabel=\"Fluxvariability\",\n",
    "        xlabel=\"reaction identifier\",\n",
    "        title=\"FVA of all reactions\")\n",
    "fv[(abs(fv.maximum)<filterV) & (abs(fv.minimum)<filterV)].plot( y=[\"maximum\", \"minimum\"],\n",
    "        ax=axes[1],ylim=[-80,80],\n",
    "        ylabel=\"Fluxvariability\",\n",
    "        xlabel=\"reaction identifier\",\n",
    "        title=\"reactions with fva>200 filtered out\")\n",
    "fv[(abs(fv.maximum)<filterV) & (abs(fv.minimum)<filterV)].plot( y=[\"cumulative\"],\n",
    "        ax=axes[2],ylim=[0,120],\n",
    "        ylabel=\"Fluxvariability\",\n",
    "        xlabel=\"reaction identifier\",\n",
    "        title=\"cummulative variability of the filtered reactions\")\n",
    "\n",
    "## save list of filtered for later\n",
    "\n",
    "list_of_filtered = fv[(abs(fv.maximum)>filterV) | (abs(fv.minimum)>filterV)]\n",
    "print(\"length of the filtered array = \"+str(len(list_of_filtered)))\n",
    "#print(list_of_filtered.index)\n"
   ]
  },
  {
   "cell_type": "code",
   "execution_count": null,
   "metadata": {},
   "outputs": [],
   "source": [
    "\n",
    "bounded_model = copy.deepcopy(model)\n",
    "\n",
    "for reaction in bounded_model.reactions:\n",
    "    if abs(reaction.lower_bound)>filterV:\n",
    "        reaction.lower_bound= filterV*np.sign(reaction.lower_bound)\n",
    "    if abs(reaction.upper_bound)>filterV:\n",
    "        reaction.upper_bound =  filterV *np.sign(reaction.upper_bound)\n",
    "        \n",
    "fv_new_model  = cobra.flux_analysis.flux_variability_analysis(bounded_model)\n",
    "fv_new_model[\"cumulative\"]    = abs(fv_new_model.maximum) + abs(fv_new_model.minimum)"
   ]
  },
  {
   "cell_type": "code",
   "execution_count": null,
   "metadata": {},
   "outputs": [],
   "source": [
    "fig, axes = plt.subplots(nrows=1, ncols=2)\n",
    "fv_new_model.plot( \n",
    "        y=[\"maximum\", \"minimum\"],\n",
    "        ax=axes[0],figsize=(35,15),\n",
    "        ylabel=\"Fluxvariability\",\n",
    "        xlabel=\"reaction identifier\",\n",
    "        title=\"reactions with fva>200 filtered out\"\n",
    "        )\n",
    "fv_new_model.plot( \n",
    "        y=[\"cumulative\"],\n",
    "        ax=axes[1],ylim=[0,150],\n",
    "        ylabel=\"Fluxvariability\",\n",
    "        xlabel=\"reaction identifier\",\n",
    "        title=\"cummulative fva values\"\n",
    "        )\n"
   ]
  },
  {
   "cell_type": "markdown",
   "metadata": {},
   "source": [
    "#### Assumption through high default boundaries overal variability artificially strethed ?\n",
    "#### Test, Measure the overall cumulative variability for the bounded and unbound optimized cases.\n",
    "#### If a difference is visible after removig the artificially stretched reactions, this would mean that theire was an influence"
   ]
  },
  {
   "cell_type": "code",
   "execution_count": null,
   "metadata": {},
   "outputs": [],
   "source": [
    "filter = list_of_filtered.index\n",
    "\n",
    "ax1 =   fv[~fv.index.isin(filter)].plot( y=[\"cumulative\"],ylim=[0,120])\n",
    "fv_new_model[~fv_new_model.index.isin(filter)].plot( y=[\"cumulative\"],ax=ax1,\n",
    "title = \"Comparison of cummulative FVA Values restricted/non-restricted Case \",\n",
    "xlabel = \"reaction Name\",\n",
    "ylabel = \"FVA cumulative\"\n",
    ")\n",
    "\n",
    "ax1.legend([\"FVA_cum of non-restricted Model\", \"FVA_cum of restricted Model, abs(lb/ub)<200\"])\n",
    "\n"
   ]
  },
  {
   "cell_type": "code",
   "execution_count": null,
   "metadata": {},
   "outputs": [],
   "source": [
    "diff=fv[~fv.index.isin(filter)][\"cumulative\"] - fv_new_model[~fv_new_model.index.isin(filter)][\"cumulative\"]\n",
    "diff.sort_values(ascending=False).plot(logy=True,\n",
    "title = \"Differenve in cumulative FVA values for restricted and non restricted case\",\n",
    "xlabel = \"reaction Name\",\n",
    "ylabel = \"diff(cum_FVA)\"\n",
    ")\n",
    "nonzero_diff = diff[diff > 1e-5]\n",
    "\n",
    "print(\"Number of reactions,for which the result of the FVA changed through reducing the biggest boundaries \" + str(len(nonzero_diff)))\n",
    "print(\"seems as if a signifant account might be numerical, because of small differences \")"
   ]
  },
  {
   "cell_type": "code",
   "execution_count": null,
   "metadata": {},
   "outputs": [],
   "source": [
    "print(nonzero_diff)"
   ]
  },
  {
   "cell_type": "code",
   "execution_count": null,
   "metadata": {},
   "outputs": [],
   "source": [
    "#bin_array = np.logspace(1e-4,1e+4,9)\n",
    "#axA = fv[~fv.index.isin(filter)].hist(column=[\"cumulative\"],log=True, bins=50,figsize=(5,5))\n",
    "#fv_new_model[~fv_new_model.index.isin(filter)].hist(column=[\"cumulative\"] , log=True,bins=50,ax=axA)\n",
    "comp = pd.DataFrame()\n",
    "comp['notConstrained']=fv[~fv.index.isin(filter)][\"cumulative\"]\n",
    "comp['constrained']=fv_new_model[~fv_new_model.index.isin(filter)][\"cumulative\"]\n",
    "\n",
    "fig=plt.figure(figsize=(6,6))\n",
    " \n",
    "plt.xlabel('cumulative abs flux variability')\n",
    "plt.ylabel('# No of reactions')\n",
    "plt.xlim([0,100])\n",
    "#plt.ylim(0,1e4)\n",
    "plt.hist(comp,log=True,label=[\"not_constrained\",\"constrained\"])\n",
    "\n",
    "plt.legend()\n",
    "\n",
    "\n",
    "\n",
    "\n"
   ]
  },
  {
   "cell_type": "markdown",
   "metadata": {},
   "source": [
    "### comparing flux distribution for the filtered and not filtered case"
   ]
  },
  {
   "cell_type": "code",
   "execution_count": 6,
   "metadata": {},
   "outputs": [
    {
     "ename": "NameError",
     "evalue": "name 'bounded_model' is not defined",
     "output_type": "error",
     "traceback": [
      "\u001b[0;31m---------------------------------------------------------------------------\u001b[0m",
      "\u001b[0;31mNameError\u001b[0m                                 Traceback (most recent call last)",
      "\u001b[0;32m/var/folders/wg/bd6gkggs51b4d1lbpsbxnw0r0000gn/T/ipykernel_6148/2869879119.py\u001b[0m in \u001b[0;36m<module>\u001b[0;34m\u001b[0m\n\u001b[1;32m      1\u001b[0m modelDict2 = {\n\u001b[1;32m      2\u001b[0m     \u001b[0;34m\"baseCaseOctanoat\"\u001b[0m \u001b[0;34m:\u001b[0m \u001b[0mmodel\u001b[0m \u001b[0;34m,\u001b[0m\u001b[0;34m\u001b[0m\u001b[0;34m\u001b[0m\u001b[0m\n\u001b[0;32m----> 3\u001b[0;31m     \u001b[0;34m\"boundariesLimited to +/- 200\"\u001b[0m \u001b[0;34m:\u001b[0m \u001b[0mbounded_model\u001b[0m\u001b[0;34m\u001b[0m\u001b[0;34m\u001b[0m\u001b[0m\n\u001b[0m\u001b[1;32m      4\u001b[0m     }\n\u001b[1;32m      5\u001b[0m \u001b[0mcomparisonObjectBoundaedModels\u001b[0m \u001b[0;34m=\u001b[0m \u001b[0mext\u001b[0m\u001b[0;34m.\u001b[0m\u001b[0mModelComparison\u001b[0m\u001b[0;34m(\u001b[0m\u001b[0mmodelDict\u001b[0m\u001b[0;34m=\u001b[0m\u001b[0mmodelDict2\u001b[0m\u001b[0;34m)\u001b[0m\u001b[0;34m\u001b[0m\u001b[0;34m\u001b[0m\u001b[0m\n",
      "\u001b[0;31mNameError\u001b[0m: name 'bounded_model' is not defined"
     ]
    }
   ],
   "source": [
    "\n",
    "\n",
    "modelDict2 = {\n",
    "    \"baseCaseOctanoat\" : model ,\n",
    "    \"boundariesLimited to +/- 200\" : bounded_model \n",
    "    }\n",
    "comparisonObjectBoundaedModels = ext.ModelComparison(modelDict=modelDict2)\n",
    "comparisonObjectBoundaedModels.multiModellSummary(fvaDIr=.99,sortKrit='C-Flux')"
   ]
  },
  {
   "cell_type": "markdown",
   "metadata": {},
   "source": [
    "## Analysis of the reactions which are filtered"
   ]
  },
  {
   "cell_type": "code",
   "execution_count": null,
   "metadata": {},
   "outputs": [],
   "source": [
    "fl = bounded_model.optimize().fluxes\n",
    "fl[abs(fl)>5]"
   ]
  },
  {
   "cell_type": "code",
   "execution_count": null,
   "metadata": {},
   "outputs": [],
   "source": [
    "fl = model.optimize().fluxes\n",
    "fl[list_of_filtered.index].plot.hist(\n",
    "    title=\"Flux results of the filtered reactions\",\n",
    "    xlabel=\"Fluxvalues \")"
   ]
  },
  {
   "cell_type": "markdown",
   "metadata": {},
   "source": [
    "### Are theire exchange reactions being filtered out "
   ]
  },
  {
   "cell_type": "code",
   "execution_count": null,
   "metadata": {},
   "outputs": [],
   "source": [
    "list_of_filtered.index = list_of_filtered.index.astype('str')\n",
    "list_of_filtered[list_of_filtered.index.str.contains('EX')]"
   ]
  },
  {
   "cell_type": "markdown",
   "metadata": {},
   "source": [
    "## Analysis of FVA of the reaction which are on the Carbon conversion Path"
   ]
  },
  {
   "cell_type": "code",
   "execution_count": 5,
   "metadata": {},
   "outputs": [
    {
     "name": "stderr",
     "output_type": "stream",
     "text": [
      "/Users/ivanlizat/opt/anaconda3/envs/hiwi/lib/python3.9/site-packages/pandas/core/indexing.py:1667: SettingWithCopyWarning: \n",
      "A value is trying to be set on a copy of a slice from a DataFrame.\n",
      "Try using .loc[row_indexer,col_indexer] = value instead\n",
      "\n",
      "See the caveats in the documentation: https://pandas.pydata.org/pandas-docs/stable/user_guide/indexing.html#returning-a-view-versus-a-copy\n",
      "  self.obj[key] = value\n"
     ]
    },
    {
     "data": {
      "text/plain": [
       "ACOAD3f         4\n",
       "EX_octa_e       1\n",
       "FACOAL80t2pp    3\n",
       "OCTAtex         2\n",
       "PHAP2C80        6\n",
       "RECOAH3         5\n",
       "DM_C80aPHA_c    7\n",
       "Name: ind_nr, dtype: int64"
      ]
     },
     "execution_count": 5,
     "metadata": {},
     "output_type": "execute_result"
    },
    {
     "data": {
      "image/png": "[encoded data removed]",
      "text/plain": [
       "<Figure size 720x360 with 1 Axes>"
      ]
     },
     "metadata": {
      "needs_background": "light"
     },
     "output_type": "display_data"
    }
   ],
   "source": [
    "octanoate_path_reaction_ids =   [\"OCTAtex\", \"FACOAL80t2pp\", \"ACOAD3f\",\"RECOAH3\", \"ACSPHAC80\",\"PHADPC80\",\"DM_C80aPHA_c\"]\n",
    "octanoate_path_reaction_ids =   [\"EX_octa_e\", \"OCTAtex\", \"FACOAL80t2pp\",\"ACOAD3f\", \"RECOAH3\",\"PHAP2C80\",'DM_C80aPHA_c']\n",
    "\n",
    "ind_nr                      =   [4, 1, 3,2,6,5 ,7]\n",
    "fv_main_carbonpath = fv[fv.index.isin(octanoate_path_reaction_ids)]\n",
    "\n",
    "fv_main_carbonpath.loc[:,\"ind_nr\"] = ind_nr\n",
    "fv_main_carbonpath.sort_values(\"ind_nr\").plot(y=['minimum','maximum'])\n",
    "\n",
    "fv_main_carbonpath.loc[:,\"ind_nr\"]"
   ]
  }
 ],
 "metadata": {
  "interpreter": {
   "hash": "cff8a8fde5066156badbc9a34c6d1368c0b6a6d699b7317df0ec1e460b5908e2"
  },
  "kernelspec": {
   "display_name": "Python 3.9.7 ('hiwi')",
   "language": "python",
   "name": "python3"
  },
  "language_info": {
   "codemirror_mode": {
    "name": "ipython",
    "version": 3
   },
   "file_extension": ".py",
   "mimetype": "text/x-python",
   "name": "python",
   "nbconvert_exporter": "python",
   "pygments_lexer": "ipython3",
   "version": "3.9.7"
  },
  "orig_nbformat": 4
 },
 "nbformat": 4,
 "nbformat_minor": 2
}
